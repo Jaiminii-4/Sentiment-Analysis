{
 "cells": [
  {
   "cell_type": "code",
   "execution_count": 1,
   "id": "8b7f5420-c05f-4cd8-960b-5407573d2a90",
   "metadata": {
    "executionInfo": {
     "elapsed": 539,
     "status": "ok",
     "timestamp": 1721455312248,
     "user": {
      "displayName": "Jaimini Chaudhari",
      "userId": "01479474956516664599"
     },
     "user_tz": -330
    },
    "id": "8b7f5420-c05f-4cd8-960b-5407573d2a90"
   },
   "outputs": [],
   "source": [
    "import pandas as pd\n",
    "import numpy as np\n",
    "import matplotlib.pyplot as plt\n",
    "import seaborn as sns"
   ]
  },
  {
   "cell_type": "code",
   "execution_count": 2,
   "id": "68f42d17-7b9a-49ea-b557-ec70fb6f8ab8",
   "metadata": {
    "executionInfo": {
     "elapsed": 729,
     "status": "ok",
     "timestamp": 1721455692966,
     "user": {
      "displayName": "Jaimini Chaudhari",
      "userId": "01479474956516664599"
     },
     "user_tz": -330
    },
    "id": "68f42d17-7b9a-49ea-b557-ec70fb6f8ab8"
   },
   "outputs": [],
   "source": [
    "df=pd.read_csv(\"sentiment_analysis.csv\")"
   ]
  },
  {
   "cell_type": "code",
   "execution_count": 3,
   "id": "a39ca0d8-aa8c-4060-91cb-6a8225c009dd",
   "metadata": {
    "colab": {
     "base_uri": "https://localhost:8080/",
     "height": 206
    },
    "executionInfo": {
     "elapsed": 16,
     "status": "ok",
     "timestamp": 1721455695300,
     "user": {
      "displayName": "Jaimini Chaudhari",
      "userId": "01479474956516664599"
     },
     "user_tz": -330
    },
    "id": "a39ca0d8-aa8c-4060-91cb-6a8225c009dd",
    "outputId": "8c16e6d8-fd63-4d49-b313-16af39e0c5a6"
   },
   "outputs": [
    {
     "data": {
      "text/html": [
       "<div>\n",
       "<style scoped>\n",
       "    .dataframe tbody tr th:only-of-type {\n",
       "        vertical-align: middle;\n",
       "    }\n",
       "\n",
       "    .dataframe tbody tr th {\n",
       "        vertical-align: top;\n",
       "    }\n",
       "\n",
       "    .dataframe thead th {\n",
       "        text-align: right;\n",
       "    }\n",
       "</style>\n",
       "<table border=\"1\" class=\"dataframe\">\n",
       "  <thead>\n",
       "    <tr style=\"text-align: right;\">\n",
       "      <th></th>\n",
       "      <th>Year</th>\n",
       "      <th>Month</th>\n",
       "      <th>Day</th>\n",
       "      <th>Time of Tweet</th>\n",
       "      <th>text</th>\n",
       "      <th>sentiment</th>\n",
       "      <th>Platform</th>\n",
       "    </tr>\n",
       "  </thead>\n",
       "  <tbody>\n",
       "    <tr>\n",
       "      <th>0</th>\n",
       "      <td>2018</td>\n",
       "      <td>8</td>\n",
       "      <td>18</td>\n",
       "      <td>morning</td>\n",
       "      <td>What a great day!!! Looks like dream.</td>\n",
       "      <td>positive</td>\n",
       "      <td>Twitter</td>\n",
       "    </tr>\n",
       "    <tr>\n",
       "      <th>1</th>\n",
       "      <td>2018</td>\n",
       "      <td>8</td>\n",
       "      <td>18</td>\n",
       "      <td>noon</td>\n",
       "      <td>I feel sorry, I miss you here in the sea beach</td>\n",
       "      <td>positive</td>\n",
       "      <td>Facebook</td>\n",
       "    </tr>\n",
       "    <tr>\n",
       "      <th>2</th>\n",
       "      <td>2017</td>\n",
       "      <td>8</td>\n",
       "      <td>18</td>\n",
       "      <td>night</td>\n",
       "      <td>Don't angry me</td>\n",
       "      <td>negative</td>\n",
       "      <td>Facebook</td>\n",
       "    </tr>\n",
       "    <tr>\n",
       "      <th>3</th>\n",
       "      <td>2022</td>\n",
       "      <td>6</td>\n",
       "      <td>8</td>\n",
       "      <td>morning</td>\n",
       "      <td>We attend in the class just for listening teac...</td>\n",
       "      <td>negative</td>\n",
       "      <td>Facebook</td>\n",
       "    </tr>\n",
       "    <tr>\n",
       "      <th>4</th>\n",
       "      <td>2022</td>\n",
       "      <td>6</td>\n",
       "      <td>8</td>\n",
       "      <td>noon</td>\n",
       "      <td>Those who want to go, let them go</td>\n",
       "      <td>negative</td>\n",
       "      <td>Instagram</td>\n",
       "    </tr>\n",
       "  </tbody>\n",
       "</table>\n",
       "</div>"
      ],
      "text/plain": [
       "   Year  Month  Day Time of Tweet  \\\n",
       "0  2018      8   18       morning   \n",
       "1  2018      8   18          noon   \n",
       "2  2017      8   18         night   \n",
       "3  2022      6    8       morning   \n",
       "4  2022      6    8          noon   \n",
       "\n",
       "                                                text sentiment     Platform  \n",
       "0              What a great day!!! Looks like dream.  positive    Twitter    \n",
       "1     I feel sorry, I miss you here in the sea beach  positive    Facebook   \n",
       "2                                     Don't angry me  negative     Facebook  \n",
       "3  We attend in the class just for listening teac...  negative    Facebook   \n",
       "4                  Those who want to go, let them go  negative   Instagram   "
      ]
     },
     "execution_count": 3,
     "metadata": {},
     "output_type": "execute_result"
    }
   ],
   "source": [
    "df.head()"
   ]
  },
  {
   "cell_type": "code",
   "execution_count": 4,
   "id": "9c2ec2b1-c026-4071-86ba-56ab4e8463c6",
   "metadata": {
    "id": "9c2ec2b1-c026-4071-86ba-56ab4e8463c6"
   },
   "outputs": [],
   "source": [
    "#eda"
   ]
  },
  {
   "cell_type": "code",
   "execution_count": 5,
   "id": "8d908b43-c730-4511-8e30-ab31ba6d8af9",
   "metadata": {
    "colab": {
     "base_uri": "https://localhost:8080/"
    },
    "executionInfo": {
     "elapsed": 517,
     "status": "ok",
     "timestamp": 1721455701356,
     "user": {
      "displayName": "Jaimini Chaudhari",
      "userId": "01479474956516664599"
     },
     "user_tz": -330
    },
    "id": "8d908b43-c730-4511-8e30-ab31ba6d8af9",
    "outputId": "2b597d91-a566-4a88-f3e6-c31b6b45310e"
   },
   "outputs": [
    {
     "name": "stdout",
     "output_type": "stream",
     "text": [
      "<class 'pandas.core.frame.DataFrame'>\n",
      "RangeIndex: 499 entries, 0 to 498\n",
      "Data columns (total 7 columns):\n",
      " #   Column         Non-Null Count  Dtype \n",
      "---  ------         --------------  ----- \n",
      " 0   Year           499 non-null    int64 \n",
      " 1   Month          499 non-null    int64 \n",
      " 2   Day            499 non-null    int64 \n",
      " 3   Time of Tweet  499 non-null    object\n",
      " 4   text           499 non-null    object\n",
      " 5   sentiment      499 non-null    object\n",
      " 6   Platform       499 non-null    object\n",
      "dtypes: int64(3), object(4)\n",
      "memory usage: 27.4+ KB\n"
     ]
    }
   ],
   "source": [
    "df.info()"
   ]
  },
  {
   "cell_type": "code",
   "execution_count": 6,
   "id": "2f157902-e74c-40d5-984d-1d85bc188f42",
   "metadata": {
    "colab": {
     "base_uri": "https://localhost:8080/"
    },
    "executionInfo": {
     "elapsed": 674,
     "status": "ok",
     "timestamp": 1721455706056,
     "user": {
      "displayName": "Jaimini Chaudhari",
      "userId": "01479474956516664599"
     },
     "user_tz": -330
    },
    "id": "2f157902-e74c-40d5-984d-1d85bc188f42",
    "outputId": "f9f4b657-523c-4463-bbac-8ea9b958f5d4"
   },
   "outputs": [
    {
     "data": {
      "text/plain": [
       "(499, 7)"
      ]
     },
     "execution_count": 6,
     "metadata": {},
     "output_type": "execute_result"
    }
   ],
   "source": [
    "df.shape"
   ]
  },
  {
   "cell_type": "code",
   "execution_count": 7,
   "id": "9094b06b-ff42-4654-98a7-cfeed5a7ca4f",
   "metadata": {
    "colab": {
     "base_uri": "https://localhost:8080/"
    },
    "executionInfo": {
     "elapsed": 807,
     "status": "ok",
     "timestamp": 1721455708919,
     "user": {
      "displayName": "Jaimini Chaudhari",
      "userId": "01479474956516664599"
     },
     "user_tz": -330
    },
    "id": "9094b06b-ff42-4654-98a7-cfeed5a7ca4f",
    "outputId": "a5e12740-cc6a-4064-ebe9-8230e8ba79f8"
   },
   "outputs": [
    {
     "data": {
      "text/plain": [
       "Year             0\n",
       "Month            0\n",
       "Day              0\n",
       "Time of Tweet    0\n",
       "text             0\n",
       "sentiment        0\n",
       "Platform         0\n",
       "dtype: int64"
      ]
     },
     "execution_count": 7,
     "metadata": {},
     "output_type": "execute_result"
    }
   ],
   "source": [
    "df.isnull().sum()"
   ]
  },
  {
   "cell_type": "code",
   "execution_count": 8,
   "id": "ff31787c-c06a-48c3-83d2-ef0bfb9f2267",
   "metadata": {
    "colab": {
     "base_uri": "https://localhost:8080/",
     "height": 143
    },
    "executionInfo": {
     "elapsed": 544,
     "status": "ok",
     "timestamp": 1721455712209,
     "user": {
      "displayName": "Jaimini Chaudhari",
      "userId": "01479474956516664599"
     },
     "user_tz": -330
    },
    "id": "ff31787c-c06a-48c3-83d2-ef0bfb9f2267",
    "outputId": "cad6fc65-27d3-4d32-d772-b40120473064"
   },
   "outputs": [
    {
     "data": {
      "text/html": [
       "<style type=\"text/css\">\n",
       "#T_f1b82_row0_col0 {\n",
       "  background-color: #d2d2e7;\n",
       "  color: #000000;\n",
       "}\n",
       "#T_f1b82_row0_col1, #T_f1b82_row0_col4, #T_f1b82_row0_col5, #T_f1b82_row0_col6, #T_f1b82_row0_col7, #T_f1b82_row1_col0, #T_f1b82_row2_col0 {\n",
       "  background-color: #023858;\n",
       "  color: #f1f1f1;\n",
       "}\n",
       "#T_f1b82_row0_col2, #T_f1b82_row1_col3, #T_f1b82_row1_col4, #T_f1b82_row2_col3 {\n",
       "  background-color: #fff7fb;\n",
       "  color: #000000;\n",
       "}\n",
       "#T_f1b82_row0_col3 {\n",
       "  background-color: #02395a;\n",
       "  color: #f1f1f1;\n",
       "}\n",
       "#T_f1b82_row1_col1, #T_f1b82_row1_col5 {\n",
       "  background-color: #fef6fa;\n",
       "  color: #000000;\n",
       "}\n",
       "#T_f1b82_row1_col2 {\n",
       "  background-color: #fef6fb;\n",
       "  color: #000000;\n",
       "}\n",
       "#T_f1b82_row1_col6, #T_f1b82_row2_col2, #T_f1b82_row2_col4 {\n",
       "  background-color: #fdf5fa;\n",
       "  color: #000000;\n",
       "}\n",
       "#T_f1b82_row1_col7 {\n",
       "  background-color: #fcf4fa;\n",
       "  color: #000000;\n",
       "}\n",
       "#T_f1b82_row2_col1, #T_f1b82_row2_col5 {\n",
       "  background-color: #fbf3f9;\n",
       "  color: #000000;\n",
       "}\n",
       "#T_f1b82_row2_col6 {\n",
       "  background-color: #f9f2f8;\n",
       "  color: #000000;\n",
       "}\n",
       "#T_f1b82_row2_col7 {\n",
       "  background-color: #f6eff7;\n",
       "  color: #000000;\n",
       "}\n",
       "</style>\n",
       "<table id=\"T_f1b82\">\n",
       "  <thead>\n",
       "    <tr>\n",
       "      <th class=\"blank level0\" >&nbsp;</th>\n",
       "      <th id=\"T_f1b82_level0_col0\" class=\"col_heading level0 col0\" >count</th>\n",
       "      <th id=\"T_f1b82_level0_col1\" class=\"col_heading level0 col1\" >mean</th>\n",
       "      <th id=\"T_f1b82_level0_col2\" class=\"col_heading level0 col2\" >std</th>\n",
       "      <th id=\"T_f1b82_level0_col3\" class=\"col_heading level0 col3\" >min</th>\n",
       "      <th id=\"T_f1b82_level0_col4\" class=\"col_heading level0 col4\" >25%</th>\n",
       "      <th id=\"T_f1b82_level0_col5\" class=\"col_heading level0 col5\" >50%</th>\n",
       "      <th id=\"T_f1b82_level0_col6\" class=\"col_heading level0 col6\" >75%</th>\n",
       "      <th id=\"T_f1b82_level0_col7\" class=\"col_heading level0 col7\" >max</th>\n",
       "    </tr>\n",
       "  </thead>\n",
       "  <tbody>\n",
       "    <tr>\n",
       "      <th id=\"T_f1b82_level0_row0\" class=\"row_heading level0 row0\" >Year</th>\n",
       "      <td id=\"T_f1b82_row0_col0\" class=\"data row0 col0\" >499.000000</td>\n",
       "      <td id=\"T_f1b82_row0_col1\" class=\"data row0 col1\" >2020.394790</td>\n",
       "      <td id=\"T_f1b82_row0_col2\" class=\"data row0 col2\" >2.830991</td>\n",
       "      <td id=\"T_f1b82_row0_col3\" class=\"data row0 col3\" >2010.000000</td>\n",
       "      <td id=\"T_f1b82_row0_col4\" class=\"data row0 col4\" >2019.000000</td>\n",
       "      <td id=\"T_f1b82_row0_col5\" class=\"data row0 col5\" >2021.000000</td>\n",
       "      <td id=\"T_f1b82_row0_col6\" class=\"data row0 col6\" >2023.000000</td>\n",
       "      <td id=\"T_f1b82_row0_col7\" class=\"data row0 col7\" >2023.000000</td>\n",
       "    </tr>\n",
       "    <tr>\n",
       "      <th id=\"T_f1b82_level0_row1\" class=\"row_heading level0 row1\" >Month</th>\n",
       "      <td id=\"T_f1b82_row1_col0\" class=\"data row1 col0\" >499.000000</td>\n",
       "      <td id=\"T_f1b82_row1_col1\" class=\"data row1 col1\" >6.084168</td>\n",
       "      <td id=\"T_f1b82_row1_col2\" class=\"data row1 col2\" >3.652711</td>\n",
       "      <td id=\"T_f1b82_row1_col3\" class=\"data row1 col3\" >1.000000</td>\n",
       "      <td id=\"T_f1b82_row1_col4\" class=\"data row1 col4\" >2.000000</td>\n",
       "      <td id=\"T_f1b82_row1_col5\" class=\"data row1 col5\" >6.000000</td>\n",
       "      <td id=\"T_f1b82_row1_col6\" class=\"data row1 col6\" >9.000000</td>\n",
       "      <td id=\"T_f1b82_row1_col7\" class=\"data row1 col7\" >12.000000</td>\n",
       "    </tr>\n",
       "    <tr>\n",
       "      <th id=\"T_f1b82_level0_row2\" class=\"row_heading level0 row2\" >Day</th>\n",
       "      <td id=\"T_f1b82_row2_col0\" class=\"data row2 col0\" >499.000000</td>\n",
       "      <td id=\"T_f1b82_row2_col1\" class=\"data row2 col1\" >15.693387</td>\n",
       "      <td id=\"T_f1b82_row2_col2\" class=\"data row2 col2\" >8.804673</td>\n",
       "      <td id=\"T_f1b82_row2_col3\" class=\"data row2 col3\" >1.000000</td>\n",
       "      <td id=\"T_f1b82_row2_col4\" class=\"data row2 col4\" >8.000000</td>\n",
       "      <td id=\"T_f1b82_row2_col5\" class=\"data row2 col5\" >15.000000</td>\n",
       "      <td id=\"T_f1b82_row2_col6\" class=\"data row2 col6\" >22.000000</td>\n",
       "      <td id=\"T_f1b82_row2_col7\" class=\"data row2 col7\" >31.000000</td>\n",
       "    </tr>\n",
       "  </tbody>\n",
       "</table>\n"
      ],
      "text/plain": [
       "<pandas.io.formats.style.Styler at 0x2665af14aa0>"
      ]
     },
     "execution_count": 8,
     "metadata": {},
     "output_type": "execute_result"
    }
   ],
   "source": [
    "df.describe().T.style.background_gradient(axis=1)"
   ]
  },
  {
   "cell_type": "code",
   "execution_count": 9,
   "id": "9ab027dd-aebd-43a2-9577-e55667f83046",
   "metadata": {
    "colab": {
     "base_uri": "https://localhost:8080/"
    },
    "executionInfo": {
     "elapsed": 520,
     "status": "ok",
     "timestamp": 1721455733710,
     "user": {
      "displayName": "Jaimini Chaudhari",
      "userId": "01479474956516664599"
     },
     "user_tz": -330
    },
    "id": "9ab027dd-aebd-43a2-9577-e55667f83046",
    "outputId": "8516e5dd-d728-4cf3-fda6-97471395df0c"
   },
   "outputs": [
    {
     "name": "stdout",
     "output_type": "stream",
     "text": [
      "Year\n",
      "Month\n",
      "Day\n",
      "Time of Tweet\n",
      "text\n",
      "sentiment\n",
      "Platform\n"
     ]
    }
   ],
   "source": [
    "df_columns=df.columns\n",
    "for col in df.columns:\n",
    "    print(col)"
   ]
  },
  {
   "cell_type": "code",
   "execution_count": 10,
   "id": "ffa11f80-aeb3-47b5-b42c-96bffc705bfe",
   "metadata": {
    "executionInfo": {
     "elapsed": 7,
     "status": "ok",
     "timestamp": 1721455736444,
     "user": {
      "displayName": "Jaimini Chaudhari",
      "userId": "01479474956516664599"
     },
     "user_tz": -330
    },
    "id": "ffa11f80-aeb3-47b5-b42c-96bffc705bfe"
   },
   "outputs": [],
   "source": [
    "df1= df.loc[:,(\"text\", \"sentiment\")]"
   ]
  },
  {
   "cell_type": "code",
   "execution_count": 11,
   "id": "c266bb1a-8a0d-4970-ba0c-334a1018bfb4",
   "metadata": {
    "colab": {
     "base_uri": "https://localhost:8080/",
     "height": 206
    },
    "executionInfo": {
     "elapsed": 755,
     "status": "ok",
     "timestamp": 1721455745447,
     "user": {
      "displayName": "Jaimini Chaudhari",
      "userId": "01479474956516664599"
     },
     "user_tz": -330
    },
    "id": "c266bb1a-8a0d-4970-ba0c-334a1018bfb4",
    "outputId": "47b52498-cc8d-4620-dd9e-8e0750cdea36"
   },
   "outputs": [
    {
     "data": {
      "text/html": [
       "<div>\n",
       "<style scoped>\n",
       "    .dataframe tbody tr th:only-of-type {\n",
       "        vertical-align: middle;\n",
       "    }\n",
       "\n",
       "    .dataframe tbody tr th {\n",
       "        vertical-align: top;\n",
       "    }\n",
       "\n",
       "    .dataframe thead th {\n",
       "        text-align: right;\n",
       "    }\n",
       "</style>\n",
       "<table border=\"1\" class=\"dataframe\">\n",
       "  <thead>\n",
       "    <tr style=\"text-align: right;\">\n",
       "      <th></th>\n",
       "      <th>text</th>\n",
       "      <th>sentiment</th>\n",
       "    </tr>\n",
       "  </thead>\n",
       "  <tbody>\n",
       "    <tr>\n",
       "      <th>0</th>\n",
       "      <td>What a great day!!! Looks like dream.</td>\n",
       "      <td>positive</td>\n",
       "    </tr>\n",
       "    <tr>\n",
       "      <th>1</th>\n",
       "      <td>I feel sorry, I miss you here in the sea beach</td>\n",
       "      <td>positive</td>\n",
       "    </tr>\n",
       "    <tr>\n",
       "      <th>2</th>\n",
       "      <td>Don't angry me</td>\n",
       "      <td>negative</td>\n",
       "    </tr>\n",
       "    <tr>\n",
       "      <th>3</th>\n",
       "      <td>We attend in the class just for listening teac...</td>\n",
       "      <td>negative</td>\n",
       "    </tr>\n",
       "    <tr>\n",
       "      <th>4</th>\n",
       "      <td>Those who want to go, let them go</td>\n",
       "      <td>negative</td>\n",
       "    </tr>\n",
       "  </tbody>\n",
       "</table>\n",
       "</div>"
      ],
      "text/plain": [
       "                                                text sentiment\n",
       "0              What a great day!!! Looks like dream.  positive\n",
       "1     I feel sorry, I miss you here in the sea beach  positive\n",
       "2                                     Don't angry me  negative\n",
       "3  We attend in the class just for listening teac...  negative\n",
       "4                  Those who want to go, let them go  negative"
      ]
     },
     "execution_count": 11,
     "metadata": {},
     "output_type": "execute_result"
    }
   ],
   "source": [
    "df1.head()"
   ]
  },
  {
   "cell_type": "markdown",
   "id": "a1f22538-5601-4982-a16e-8d3d369cd0d0",
   "metadata": {},
   "source": [
    "### Visualization"
   ]
  },
  {
   "cell_type": "code",
   "execution_count": 12,
   "id": "3bc290bd-2d0f-4c48-be53-84d698a48da9",
   "metadata": {
    "colab": {
     "base_uri": "https://localhost:8080/",
     "height": 496
    },
    "executionInfo": {
     "elapsed": 634,
     "status": "ok",
     "timestamp": 1721455750114,
     "user": {
      "displayName": "Jaimini Chaudhari",
      "userId": "01479474956516664599"
     },
     "user_tz": -330
    },
    "id": "3bc290bd-2d0f-4c48-be53-84d698a48da9",
    "outputId": "ca4a0b20-0dbe-4d1b-8c00-dc8526e1d043"
   },
   "outputs": [
    {
     "data": {
      "image/png": "[encoded data removed]",
      "text/plain": [
       "<Figure size 640x480 with 1 Axes>"
      ]
     },
     "metadata": {},
     "output_type": "display_data"
    }
   ],
   "source": [
    "df.sentiment.value_counts().plot(kind='bar')\n",
    "plt.show()"
   ]
  },
  {
   "cell_type": "code",
   "execution_count": 13,
   "id": "19b47ab0-2496-4d1b-af2c-dda05960ae45",
   "metadata": {
    "colab": {
     "base_uri": "https://localhost:8080/",
     "height": 471
    },
    "executionInfo": {
     "elapsed": 754,
     "status": "ok",
     "timestamp": 1721455756996,
     "user": {
      "displayName": "Jaimini Chaudhari",
      "userId": "01479474956516664599"
     },
     "user_tz": -330
    },
    "id": "19b47ab0-2496-4d1b-af2c-dda05960ae45",
    "outputId": "23187986-58c2-4df9-85d4-e0da69c1b13a"
   },
   "outputs": [
    {
     "data": {
      "image/png": "[encoded data removed]",
      "text/plain": [
       "<Figure size 640x480 with 1 Axes>"
      ]
     },
     "metadata": {},
     "output_type": "display_data"
    }
   ],
   "source": [
    "df.Year.value_counts().plot(kind='bar')\n",
    "plt.show()"
   ]
  },
  {
   "cell_type": "code",
   "execution_count": 14,
   "id": "6d6f93b2-86d5-45ba-a11a-d7fe31c6c5ec",
   "metadata": {
    "colab": {
     "base_uri": "https://localhost:8080/",
     "height": 524
    },
    "executionInfo": {
     "elapsed": 586,
     "status": "ok",
     "timestamp": 1721455769015,
     "user": {
      "displayName": "Jaimini Chaudhari",
      "userId": "01479474956516664599"
     },
     "user_tz": -330
    },
    "id": "6d6f93b2-86d5-45ba-a11a-d7fe31c6c5ec",
    "outputId": "be990b04-5ac9-4233-bcf3-3c7404d4fe16"
   },
   "outputs": [
    {
     "data": {
      "text/plain": [
       "<seaborn.axisgrid.FacetGrid at 0x2665b06f1d0>"
      ]
     },
     "execution_count": 14,
     "metadata": {},
     "output_type": "execute_result"
    },
    {
     "data": {
      "image/png": "[encoded data removed]",
      "text/plain": [
       "<Figure size 500x500 with 1 Axes>"
      ]
     },
     "metadata": {},
     "output_type": "display_data"
    }
   ],
   "source": [
    "sns.displot(df.Platform ,fill=True)"
   ]
  },
  {
   "cell_type": "code",
   "execution_count": 15,
   "id": "75db46ac-1c52-409f-b689-c5baf5132a22",
   "metadata": {
    "colab": {
     "base_uri": "https://localhost:8080/",
     "height": 471
    },
    "executionInfo": {
     "elapsed": 726,
     "status": "ok",
     "timestamp": 1721455775297,
     "user": {
      "displayName": "Jaimini Chaudhari",
      "userId": "01479474956516664599"
     },
     "user_tz": -330
    },
    "id": "75db46ac-1c52-409f-b689-c5baf5132a22",
    "outputId": "6aa00dcf-c66c-47f8-fc44-c12b521a1f8c"
   },
   "outputs": [
    {
     "data": {
      "text/plain": [
       "Text(0, 0.5, 'platform')"
      ]
     },
     "execution_count": 15,
     "metadata": {},
     "output_type": "execute_result"
    },
    {
     "data": {
      "image/png": "[encoded data removed]",
      "text/plain": [
       "<Figure size 640x480 with 1 Axes>"
      ]
     },
     "metadata": {},
     "output_type": "display_data"
    }
   ],
   "source": [
    "sns.histplot(df['Month'],bins=20,color='Blue',edgecolor='Red',kde=True)\n",
    "plt.xlabel(\"Year\")\n",
    "plt.ylabel(\"platform\")"
   ]
  },
  {
   "cell_type": "code",
   "execution_count": 16,
   "id": "302a8acd-d164-4efa-a121-1f2124acb200",
   "metadata": {
    "colab": {
     "base_uri": "https://localhost:8080/",
     "height": 467
    },
    "executionInfo": {
     "elapsed": 582,
     "status": "ok",
     "timestamp": 1721455780272,
     "user": {
      "displayName": "Jaimini Chaudhari",
      "userId": "01479474956516664599"
     },
     "user_tz": -330
    },
    "id": "302a8acd-d164-4efa-a121-1f2124acb200",
    "outputId": "9f20e653-86f2-409f-e74a-dcafa1e0f745"
   },
   "outputs": [
    {
     "data": {
      "text/plain": [
       "<Axes: xlabel='Year', ylabel='Platform'>"
      ]
     },
     "execution_count": 16,
     "metadata": {},
     "output_type": "execute_result"
    },
    {
     "data": {
      "image/png": "[encoded data removed]",
      "text/plain": [
       "<Figure size 640x480 with 1 Axes>"
      ]
     },
     "metadata": {},
     "output_type": "display_data"
    }
   ],
   "source": [
    "sns.scatterplot(data = df , x ='Year' , y ='Platform')"
   ]
  },
  {
   "cell_type": "code",
   "execution_count": null,
   "id": "e9eed912-0131-4be3-9adb-a3d558bbfba7",
   "metadata": {
    "colab": {
     "base_uri": "https://localhost:8080/"
    },
    "executionInfo": {
     "elapsed": 8,
     "status": "ok",
     "timestamp": 1721455784682,
     "user": {
      "displayName": "Jaimini Chaudhari",
      "userId": "01479474956516664599"
     },
     "user_tz": -330
    },
    "id": "e9eed912-0131-4be3-9adb-a3d558bbfba7",
    "outputId": "bc088020-920a-4814-8122-b52069975503"
   },
   "outputs": [],
   "source": []
  },
  {
   "cell_type": "code",
   "execution_count": 17,
   "id": "c9dc5616-d533-49d0-8c9d-4faa0b3a0019",
   "metadata": {
    "colab": {
     "base_uri": "https://localhost:8080/"
    },
    "executionInfo": {
     "elapsed": 514,
     "status": "ok",
     "timestamp": 1721455791159,
     "user": {
      "displayName": "Jaimini Chaudhari",
      "userId": "01479474956516664599"
     },
     "user_tz": -330
    },
    "id": "c9dc5616-d533-49d0-8c9d-4faa0b3a0019",
    "outputId": "f8424a8d-4f0d-4c0f-c5cb-1a6948f5d141"
   },
   "outputs": [
    {
     "name": "stdout",
     "output_type": "stream",
     "text": [
      "Year\n",
      "Month\n",
      "Day\n",
      "Time of Tweet\n",
      "text\n",
      "sentiment\n",
      "Platform\n"
     ]
    }
   ],
   "source": [
    "df_columns=df.columns\n",
    "for col in df.columns:\n",
    "    print(col)\n"
   ]
  },
  {
   "cell_type": "code",
   "execution_count": 18,
   "id": "a009aa9e-9fb2-4e32-90aa-e71c64e832d0",
   "metadata": {
    "executionInfo": {
     "elapsed": 696,
     "status": "ok",
     "timestamp": 1721455794943,
     "user": {
      "displayName": "Jaimini Chaudhari",
      "userId": "01479474956516664599"
     },
     "user_tz": -330
    },
    "id": "a009aa9e-9fb2-4e32-90aa-e71c64e832d0"
   },
   "outputs": [],
   "source": [
    "df[\"sentiment\"].value_counts()\n",
    "df[\"sentiment\"]=df[\"sentiment\"].replace({\"positive\":1,\"neutral\":0, \"negative\":2})"
   ]
  },
  {
   "cell_type": "code",
   "execution_count": 19,
   "id": "0d7031a5-c7e6-43be-8534-81c1582b008a",
   "metadata": {
    "colab": {
     "base_uri": "https://localhost:8080/",
     "height": 406
    },
    "executionInfo": {
     "elapsed": 1733,
     "status": "ok",
     "timestamp": 1721455803229,
     "user": {
      "displayName": "Jaimini Chaudhari",
      "userId": "01479474956516664599"
     },
     "user_tz": -330
    },
    "id": "0d7031a5-c7e6-43be-8534-81c1582b008a",
    "outputId": "de506a58-f202-439b-a539-b4b010f7cdb6"
   },
   "outputs": [
    {
     "data": {
      "image/png": "[encoded data removed]",
      "text/plain": [
       "<Figure size 640x480 with 1 Axes>"
      ]
     },
     "metadata": {},
     "output_type": "display_data"
    }
   ],
   "source": [
    "df.groupby(['Platform','Year']).sentiment.value_counts().sort_values(ascending = False).head(10).plot(kind = 'pie',autopct = '%1.1f%%',ylabel='')\n",
    "plt.show()"
   ]
  },
  {
   "cell_type": "markdown",
   "id": "96b54a4b-6ac4-4a73-ba06-b450610cde19",
   "metadata": {},
   "source": [
    "## Preparing"
   ]
  },
  {
   "cell_type": "markdown",
   "id": "21f66671-0f83-4192-bb36-e9d83516b4d2",
   "metadata": {},
   "source": [
    "### Remove punctuation"
   ]
  },
  {
   "cell_type": "code",
   "execution_count": 20,
   "id": "ed60c5a7-e1fb-4b68-96a2-c3c0fa612872",
   "metadata": {
    "executionInfo": {
     "elapsed": 576,
     "status": "ok",
     "timestamp": 1721455807251,
     "user": {
      "displayName": "Jaimini Chaudhari",
      "userId": "01479474956516664599"
     },
     "user_tz": -330
    },
    "id": "ed60c5a7-e1fb-4b68-96a2-c3c0fa612872"
   },
   "outputs": [],
   "source": [
    "import string"
   ]
  },
  {
   "cell_type": "code",
   "execution_count": 21,
   "id": "23145139-d16a-4e4d-b0fd-d304b0951faf",
   "metadata": {
    "colab": {
     "base_uri": "https://localhost:8080/",
     "height": 206
    },
    "executionInfo": {
     "elapsed": 17,
     "status": "ok",
     "timestamp": 1721455809910,
     "user": {
      "displayName": "Jaimini Chaudhari",
      "userId": "01479474956516664599"
     },
     "user_tz": -330
    },
    "id": "23145139-d16a-4e4d-b0fd-d304b0951faf",
    "outputId": "e3ae94a6-5509-4513-9442-bd2fdc7da89e"
   },
   "outputs": [
    {
     "data": {
      "text/html": [
       "<div>\n",
       "<style scoped>\n",
       "    .dataframe tbody tr th:only-of-type {\n",
       "        vertical-align: middle;\n",
       "    }\n",
       "\n",
       "    .dataframe tbody tr th {\n",
       "        vertical-align: top;\n",
       "    }\n",
       "\n",
       "    .dataframe thead th {\n",
       "        text-align: right;\n",
       "    }\n",
       "</style>\n",
       "<table border=\"1\" class=\"dataframe\">\n",
       "  <thead>\n",
       "    <tr style=\"text-align: right;\">\n",
       "      <th></th>\n",
       "      <th>Year</th>\n",
       "      <th>Month</th>\n",
       "      <th>Day</th>\n",
       "      <th>Time of Tweet</th>\n",
       "      <th>text</th>\n",
       "      <th>sentiment</th>\n",
       "      <th>Platform</th>\n",
       "    </tr>\n",
       "  </thead>\n",
       "  <tbody>\n",
       "    <tr>\n",
       "      <th>0</th>\n",
       "      <td>2018</td>\n",
       "      <td>8</td>\n",
       "      <td>18</td>\n",
       "      <td>morning</td>\n",
       "      <td>what a great day looks like dream</td>\n",
       "      <td>1</td>\n",
       "      <td>Twitter</td>\n",
       "    </tr>\n",
       "    <tr>\n",
       "      <th>1</th>\n",
       "      <td>2018</td>\n",
       "      <td>8</td>\n",
       "      <td>18</td>\n",
       "      <td>noon</td>\n",
       "      <td>i feel sorry i miss you here in the sea beach</td>\n",
       "      <td>1</td>\n",
       "      <td>Facebook</td>\n",
       "    </tr>\n",
       "    <tr>\n",
       "      <th>2</th>\n",
       "      <td>2017</td>\n",
       "      <td>8</td>\n",
       "      <td>18</td>\n",
       "      <td>night</td>\n",
       "      <td>dont angry me</td>\n",
       "      <td>2</td>\n",
       "      <td>Facebook</td>\n",
       "    </tr>\n",
       "    <tr>\n",
       "      <th>3</th>\n",
       "      <td>2022</td>\n",
       "      <td>6</td>\n",
       "      <td>8</td>\n",
       "      <td>morning</td>\n",
       "      <td>we attend in the class just for listening teac...</td>\n",
       "      <td>2</td>\n",
       "      <td>Facebook</td>\n",
       "    </tr>\n",
       "    <tr>\n",
       "      <th>4</th>\n",
       "      <td>2022</td>\n",
       "      <td>6</td>\n",
       "      <td>8</td>\n",
       "      <td>noon</td>\n",
       "      <td>those who want to go let them go</td>\n",
       "      <td>2</td>\n",
       "      <td>Instagram</td>\n",
       "    </tr>\n",
       "  </tbody>\n",
       "</table>\n",
       "</div>"
      ],
      "text/plain": [
       "   Year  Month  Day Time of Tweet  \\\n",
       "0  2018      8   18       morning   \n",
       "1  2018      8   18          noon   \n",
       "2  2017      8   18         night   \n",
       "3  2022      6    8       morning   \n",
       "4  2022      6    8          noon   \n",
       "\n",
       "                                                text  sentiment     Platform  \n",
       "0                  what a great day looks like dream          1    Twitter    \n",
       "1      i feel sorry i miss you here in the sea beach          1    Facebook   \n",
       "2                                      dont angry me          2     Facebook  \n",
       "3  we attend in the class just for listening teac...          2    Facebook   \n",
       "4                   those who want to go let them go          2   Instagram   "
      ]
     },
     "execution_count": 21,
     "metadata": {},
     "output_type": "execute_result"
    }
   ],
   "source": [
    "punc = string.punctuation\n",
    "\n",
    "def remove_punctuation(text):\n",
    "    lst = []\n",
    "    text = text.lower()\n",
    "    for word in text:\n",
    "        if word not in punc:\n",
    "            lst.append(word)\n",
    "\n",
    "    x = lst[:]\n",
    "    lst.clear()\n",
    "    return \"\".join(x)\n",
    "\n",
    "\n",
    "df[\"text\"] = df[\"text\"].apply(remove_punctuation)\n",
    "\n",
    "df.head()"
   ]
  },
  {
   "cell_type": "markdown",
   "id": "3b1cd34b-13ed-4ee0-a69f-d7bc3b7ff9ff",
   "metadata": {},
   "source": [
    "### Removing stop words"
   ]
  },
  {
   "cell_type": "code",
   "execution_count": 22,
   "id": "c8ae74be-4308-4f9f-81ce-e05c033c6020",
   "metadata": {
    "executionInfo": {
     "elapsed": 1342,
     "status": "ok",
     "timestamp": 1721455858028,
     "user": {
      "displayName": "Jaimini Chaudhari",
      "userId": "01479474956516664599"
     },
     "user_tz": -330
    },
    "id": "c8ae74be-4308-4f9f-81ce-e05c033c6020"
   },
   "outputs": [],
   "source": [
    "from nltk.corpus import stopwords"
   ]
  },
  {
   "cell_type": "code",
   "execution_count": 23,
   "id": "gRm7bpSrxOmE",
   "metadata": {
    "colab": {
     "base_uri": "https://localhost:8080/"
    },
    "executionInfo": {
     "elapsed": 514,
     "status": "ok",
     "timestamp": 1721455954498,
     "user": {
      "displayName": "Jaimini Chaudhari",
      "userId": "01479474956516664599"
     },
     "user_tz": -330
    },
    "id": "gRm7bpSrxOmE",
    "outputId": "971427a9-397e-4a79-fb62-a278e5a639a8"
   },
   "outputs": [
    {
     "name": "stderr",
     "output_type": "stream",
     "text": [
      "[nltk_data] Error loading stopwords: <urlopen error [Errno 11001]\n",
      "[nltk_data]     getaddrinfo failed>\n"
     ]
    },
    {
     "data": {
      "text/plain": [
       "False"
      ]
     },
     "execution_count": 23,
     "metadata": {},
     "output_type": "execute_result"
    }
   ],
   "source": [
    "#extra\n",
    "import nltk\n",
    "nltk.download('stopwords')"
   ]
  },
  {
   "cell_type": "code",
   "execution_count": 24,
   "id": "6a88b5e7-ca6a-42a7-b2ee-a88e3649750c",
   "metadata": {
    "executionInfo": {
     "elapsed": 6,
     "status": "ok",
     "timestamp": 1721455956641,
     "user": {
      "displayName": "Jaimini Chaudhari",
      "userId": "01479474956516664599"
     },
     "user_tz": -330
    },
    "id": "6a88b5e7-ca6a-42a7-b2ee-a88e3649750c"
   },
   "outputs": [],
   "source": [
    "stop = stopwords.words(\"english\")\n",
    "\n",
    "def remove_stopwords(text):\n",
    "    lst = []\n",
    "\n",
    "    for word in text.split():\n",
    "        if word not in stop:\n",
    "            lst.append(word)\n",
    "\n",
    "    x = lst[:\n",
    "           ]\n",
    "    lst.clear()\n",
    "    return \" \".join(x)\n",
    "\n",
    "\n",
    "df[\"text\"] = df[\"text\"].apply(remove_stopwords)"
   ]
  },
  {
   "cell_type": "code",
   "execution_count": 25,
   "id": "31bfd2b7-3233-4e9f-8cbd-4b82fad7c370",
   "metadata": {
    "colab": {
     "base_uri": "https://localhost:8080/",
     "height": 206
    },
    "executionInfo": {
     "elapsed": 723,
     "status": "ok",
     "timestamp": 1721455962681,
     "user": {
      "displayName": "Jaimini Chaudhari",
      "userId": "01479474956516664599"
     },
     "user_tz": -330
    },
    "id": "31bfd2b7-3233-4e9f-8cbd-4b82fad7c370",
    "outputId": "ee9e7b91-e50b-42c8-884b-032bd34641ad"
   },
   "outputs": [
    {
     "data": {
      "text/html": [
       "<div>\n",
       "<style scoped>\n",
       "    .dataframe tbody tr th:only-of-type {\n",
       "        vertical-align: middle;\n",
       "    }\n",
       "\n",
       "    .dataframe tbody tr th {\n",
       "        vertical-align: top;\n",
       "    }\n",
       "\n",
       "    .dataframe thead th {\n",
       "        text-align: right;\n",
       "    }\n",
       "</style>\n",
       "<table border=\"1\" class=\"dataframe\">\n",
       "  <thead>\n",
       "    <tr style=\"text-align: right;\">\n",
       "      <th></th>\n",
       "      <th>Year</th>\n",
       "      <th>Month</th>\n",
       "      <th>Day</th>\n",
       "      <th>Time of Tweet</th>\n",
       "      <th>text</th>\n",
       "      <th>sentiment</th>\n",
       "      <th>Platform</th>\n",
       "    </tr>\n",
       "  </thead>\n",
       "  <tbody>\n",
       "    <tr>\n",
       "      <th>0</th>\n",
       "      <td>2018</td>\n",
       "      <td>8</td>\n",
       "      <td>18</td>\n",
       "      <td>morning</td>\n",
       "      <td>great day looks like dream</td>\n",
       "      <td>1</td>\n",
       "      <td>Twitter</td>\n",
       "    </tr>\n",
       "    <tr>\n",
       "      <th>1</th>\n",
       "      <td>2018</td>\n",
       "      <td>8</td>\n",
       "      <td>18</td>\n",
       "      <td>noon</td>\n",
       "      <td>feel sorry miss sea beach</td>\n",
       "      <td>1</td>\n",
       "      <td>Facebook</td>\n",
       "    </tr>\n",
       "    <tr>\n",
       "      <th>2</th>\n",
       "      <td>2017</td>\n",
       "      <td>8</td>\n",
       "      <td>18</td>\n",
       "      <td>night</td>\n",
       "      <td>dont angry</td>\n",
       "      <td>2</td>\n",
       "      <td>Facebook</td>\n",
       "    </tr>\n",
       "    <tr>\n",
       "      <th>3</th>\n",
       "      <td>2022</td>\n",
       "      <td>6</td>\n",
       "      <td>8</td>\n",
       "      <td>morning</td>\n",
       "      <td>attend class listening teachers reading slide ...</td>\n",
       "      <td>2</td>\n",
       "      <td>Facebook</td>\n",
       "    </tr>\n",
       "    <tr>\n",
       "      <th>4</th>\n",
       "      <td>2022</td>\n",
       "      <td>6</td>\n",
       "      <td>8</td>\n",
       "      <td>noon</td>\n",
       "      <td>want go let go</td>\n",
       "      <td>2</td>\n",
       "      <td>Instagram</td>\n",
       "    </tr>\n",
       "  </tbody>\n",
       "</table>\n",
       "</div>"
      ],
      "text/plain": [
       "   Year  Month  Day Time of Tweet  \\\n",
       "0  2018      8   18       morning   \n",
       "1  2018      8   18          noon   \n",
       "2  2017      8   18         night   \n",
       "3  2022      6    8       morning   \n",
       "4  2022      6    8          noon   \n",
       "\n",
       "                                                text  sentiment     Platform  \n",
       "0                         great day looks like dream          1    Twitter    \n",
       "1                          feel sorry miss sea beach          1    Facebook   \n",
       "2                                         dont angry          2     Facebook  \n",
       "3  attend class listening teachers reading slide ...          2    Facebook   \n",
       "4                                     want go let go          2   Instagram   "
      ]
     },
     "execution_count": 25,
     "metadata": {},
     "output_type": "execute_result"
    }
   ],
   "source": [
    "df.head()"
   ]
  },
  {
   "cell_type": "markdown",
   "id": "3acc30a1-f0ac-4de9-a20e-bf08199c9a46",
   "metadata": {},
   "source": [
    "### Stemmering the data"
   ]
  },
  {
   "cell_type": "code",
   "execution_count": 26,
   "id": "HD_5q9Box-bl",
   "metadata": {
    "colab": {
     "base_uri": "https://localhost:8080/"
    },
    "executionInfo": {
     "elapsed": 16785,
     "status": "ok",
     "timestamp": 1721456249640,
     "user": {
      "displayName": "Jaimini Chaudhari",
      "userId": "01479474956516664599"
     },
     "user_tz": -330
    },
    "id": "HD_5q9Box-bl",
    "outputId": "864fc243-4940-4344-caa0-18bf0e0af3fb"
   },
   "outputs": [
    {
     "name": "stdout",
     "output_type": "stream",
     "text": [
      "Requirement already satisfied: nltk in c:\\users\\91876\\appdata\\local\\programs\\python\\python312\\lib\\site-packages (3.8.1)\n",
      "Requirement already satisfied: click in c:\\users\\91876\\appdata\\local\\programs\\python\\python312\\lib\\site-packages (from nltk) (8.1.7)\n",
      "Requirement already satisfied: joblib in c:\\users\\91876\\appdata\\local\\programs\\python\\python312\\lib\\site-packages (from nltk) (1.3.2)\n",
      "Requirement already satisfied: regex>=2021.8.3 in c:\\users\\91876\\appdata\\local\\programs\\python\\python312\\lib\\site-packages (from nltk) (2024.5.15)\n",
      "Requirement already satisfied: tqdm in c:\\users\\91876\\appdata\\local\\programs\\python\\python312\\lib\\site-packages (from nltk) (4.66.4)\n",
      "Requirement already satisfied: colorama in c:\\users\\91876\\appdata\\local\\programs\\python\\python312\\lib\\site-packages (from click->nltk) (0.4.6)\n"
     ]
    },
    {
     "name": "stderr",
     "output_type": "stream",
     "text": [
      "\n",
      "[notice] A new release of pip is available: 24.0 -> 24.1.2\n",
      "[notice] To update, run: C:\\Users\\91876\\AppData\\Local\\Programs\\Python\\Python312\\python.exe -m pip install --upgrade pip\n",
      "[nltk_data] Error loading punkt: <urlopen error [Errno 11001]\n",
      "[nltk_data]     getaddrinfo failed>\n"
     ]
    },
    {
     "data": {
      "text/plain": [
       "False"
      ]
     },
     "execution_count": 26,
     "metadata": {},
     "output_type": "execute_result"
    }
   ],
   "source": [
    "#extra\n",
    "!pip install nltk\n",
    "nltk.download('punkt')"
   ]
  },
  {
   "cell_type": "code",
   "execution_count": 27,
   "id": "c938aee6-eebf-4bc0-b50f-0008c0ab0fac",
   "metadata": {
    "executionInfo": {
     "elapsed": 491,
     "status": "ok",
     "timestamp": 1721456257866,
     "user": {
      "displayName": "Jaimini Chaudhari",
      "userId": "01479474956516664599"
     },
     "user_tz": -330
    },
    "id": "c938aee6-eebf-4bc0-b50f-0008c0ab0fac"
   },
   "outputs": [],
   "source": [
    "from nltk.stem import PorterStemmer\n",
    "import nltk\n",
    "ps = PorterStemmer()\n",
    "\n",
    "def stemming(text):\n",
    "    words = nltk.word_tokenize(text)\n",
    "    stemmed_words = [ps.stem(word) for word in words]\n",
    "    return \" \".join(stemmed_words)\n",
    "\n",
    "df[\"text\"]=df[\"text\"].apply(stemming)"
   ]
  },
  {
   "cell_type": "code",
   "execution_count": 28,
   "id": "39b59d2e-6f55-4728-8b92-e1111f0800ea",
   "metadata": {},
   "outputs": [
    {
     "data": {
      "text/html": [
       "<div>\n",
       "<style scoped>\n",
       "    .dataframe tbody tr th:only-of-type {\n",
       "        vertical-align: middle;\n",
       "    }\n",
       "\n",
       "    .dataframe tbody tr th {\n",
       "        vertical-align: top;\n",
       "    }\n",
       "\n",
       "    .dataframe thead th {\n",
       "        text-align: right;\n",
       "    }\n",
       "</style>\n",
       "<table border=\"1\" class=\"dataframe\">\n",
       "  <thead>\n",
       "    <tr style=\"text-align: right;\">\n",
       "      <th></th>\n",
       "      <th>Year</th>\n",
       "      <th>Month</th>\n",
       "      <th>Day</th>\n",
       "      <th>Time of Tweet</th>\n",
       "      <th>text</th>\n",
       "      <th>sentiment</th>\n",
       "      <th>Platform</th>\n",
       "    </tr>\n",
       "  </thead>\n",
       "  <tbody>\n",
       "    <tr>\n",
       "      <th>0</th>\n",
       "      <td>2018</td>\n",
       "      <td>8</td>\n",
       "      <td>18</td>\n",
       "      <td>morning</td>\n",
       "      <td>great day look like dream</td>\n",
       "      <td>1</td>\n",
       "      <td>Twitter</td>\n",
       "    </tr>\n",
       "    <tr>\n",
       "      <th>1</th>\n",
       "      <td>2018</td>\n",
       "      <td>8</td>\n",
       "      <td>18</td>\n",
       "      <td>noon</td>\n",
       "      <td>feel sorri miss sea beach</td>\n",
       "      <td>1</td>\n",
       "      <td>Facebook</td>\n",
       "    </tr>\n",
       "    <tr>\n",
       "      <th>2</th>\n",
       "      <td>2017</td>\n",
       "      <td>8</td>\n",
       "      <td>18</td>\n",
       "      <td>night</td>\n",
       "      <td>dont angri</td>\n",
       "      <td>2</td>\n",
       "      <td>Facebook</td>\n",
       "    </tr>\n",
       "    <tr>\n",
       "      <th>3</th>\n",
       "      <td>2022</td>\n",
       "      <td>6</td>\n",
       "      <td>8</td>\n",
       "      <td>morning</td>\n",
       "      <td>attend class listen teacher read slide nonsenc</td>\n",
       "      <td>2</td>\n",
       "      <td>Facebook</td>\n",
       "    </tr>\n",
       "    <tr>\n",
       "      <th>4</th>\n",
       "      <td>2022</td>\n",
       "      <td>6</td>\n",
       "      <td>8</td>\n",
       "      <td>noon</td>\n",
       "      <td>want go let go</td>\n",
       "      <td>2</td>\n",
       "      <td>Instagram</td>\n",
       "    </tr>\n",
       "  </tbody>\n",
       "</table>\n",
       "</div>"
      ],
      "text/plain": [
       "   Year  Month  Day Time of Tweet  \\\n",
       "0  2018      8   18       morning   \n",
       "1  2018      8   18          noon   \n",
       "2  2017      8   18         night   \n",
       "3  2022      6    8       morning   \n",
       "4  2022      6    8          noon   \n",
       "\n",
       "                                             text  sentiment     Platform  \n",
       "0                       great day look like dream          1    Twitter    \n",
       "1                       feel sorri miss sea beach          1    Facebook   \n",
       "2                                      dont angri          2     Facebook  \n",
       "3  attend class listen teacher read slide nonsenc          2    Facebook   \n",
       "4                                  want go let go          2   Instagram   "
      ]
     },
     "execution_count": 28,
     "metadata": {},
     "output_type": "execute_result"
    }
   ],
   "source": [
    "df.head()"
   ]
  },
  {
   "cell_type": "markdown",
   "id": "619efe4f-63af-46f8-9a7a-e1b3916887d3",
   "metadata": {},
   "source": [
    "### Lemmatizing the data"
   ]
  },
  {
   "cell_type": "code",
   "execution_count": 29,
   "id": "897fce38-de18-4114-8abe-96a6edf3e4a3",
   "metadata": {},
   "outputs": [],
   "source": [
    "from nltk.stem import WordNetLemmatizer"
   ]
  },
  {
   "cell_type": "code",
   "execution_count": 30,
   "id": "131b27f5-6c29-4c54-86cf-258331fd78d2",
   "metadata": {},
   "outputs": [
    {
     "name": "stderr",
     "output_type": "stream",
     "text": [
      "[nltk_data] Error loading wordnet: <urlopen error [Errno 11001]\n",
      "[nltk_data]     getaddrinfo failed>\n"
     ]
    },
    {
     "data": {
      "text/plain": [
       "False"
      ]
     },
     "execution_count": 30,
     "metadata": {},
     "output_type": "execute_result"
    }
   ],
   "source": [
    "nltk.download(\"wordnet\")"
   ]
  },
  {
   "cell_type": "code",
   "execution_count": 31,
   "id": "b81bf113-d9db-47ad-97c5-0161ae8f341d",
   "metadata": {},
   "outputs": [],
   "source": [
    "lemmatizer = WordNetLemmatizer()\n",
    "\n",
    "def lemmatizing(text):\n",
    "    words = nltk.word_tokenize(text)\n",
    "    lemma_words = [lemmatizer.lemmatize(word) for word in words]\n",
    "    return \" \".join(lemma_words)\n",
    "\n",
    "df[\"text\"]=df[\"text\"].apply(lemmatizing)"
   ]
  },
  {
   "cell_type": "code",
   "execution_count": 32,
   "id": "814cb04e-dbcc-40ed-8898-7815e4db9fb4",
   "metadata": {},
   "outputs": [
    {
     "data": {
      "text/plain": [
       "0                           great day look like dream\n",
       "1                           feel sorri miss sea beach\n",
       "2                                          dont angri\n",
       "3      attend class listen teacher read slide nonsenc\n",
       "4                                      want go let go\n",
       "                            ...                      \n",
       "494            accord quarter famili six live poverti\n",
       "495                          plan spend money go well\n",
       "496                   upload bamboozl pictur facebook\n",
       "497             congratul guy finish month earli booo\n",
       "498                        actual wish back taho miss\n",
       "Name: text, Length: 499, dtype: object"
      ]
     },
     "execution_count": 32,
     "metadata": {},
     "output_type": "execute_result"
    }
   ],
   "source": [
    "df[\"text\"]"
   ]
  },
  {
   "cell_type": "code",
   "execution_count": 33,
   "id": "766bb3fc-0461-472d-8f21-db8ae45b121c",
   "metadata": {
    "colab": {
     "base_uri": "https://localhost:8080/",
     "height": 206
    },
    "executionInfo": {
     "elapsed": 619,
     "status": "ok",
     "timestamp": 1721456265683,
     "user": {
      "displayName": "Jaimini Chaudhari",
      "userId": "01479474956516664599"
     },
     "user_tz": -330
    },
    "id": "766bb3fc-0461-472d-8f21-db8ae45b121c",
    "outputId": "f3af287c-98cb-41d2-f796-ab27a8709812"
   },
   "outputs": [
    {
     "data": {
      "text/html": [
       "<div>\n",
       "<style scoped>\n",
       "    .dataframe tbody tr th:only-of-type {\n",
       "        vertical-align: middle;\n",
       "    }\n",
       "\n",
       "    .dataframe tbody tr th {\n",
       "        vertical-align: top;\n",
       "    }\n",
       "\n",
       "    .dataframe thead th {\n",
       "        text-align: right;\n",
       "    }\n",
       "</style>\n",
       "<table border=\"1\" class=\"dataframe\">\n",
       "  <thead>\n",
       "    <tr style=\"text-align: right;\">\n",
       "      <th></th>\n",
       "      <th>Year</th>\n",
       "      <th>Month</th>\n",
       "      <th>Day</th>\n",
       "      <th>Time of Tweet</th>\n",
       "      <th>text</th>\n",
       "      <th>sentiment</th>\n",
       "      <th>Platform</th>\n",
       "    </tr>\n",
       "  </thead>\n",
       "  <tbody>\n",
       "    <tr>\n",
       "      <th>0</th>\n",
       "      <td>2018</td>\n",
       "      <td>8</td>\n",
       "      <td>18</td>\n",
       "      <td>morning</td>\n",
       "      <td>great day look like dream</td>\n",
       "      <td>1</td>\n",
       "      <td>Twitter</td>\n",
       "    </tr>\n",
       "    <tr>\n",
       "      <th>1</th>\n",
       "      <td>2018</td>\n",
       "      <td>8</td>\n",
       "      <td>18</td>\n",
       "      <td>noon</td>\n",
       "      <td>feel sorri miss sea beach</td>\n",
       "      <td>1</td>\n",
       "      <td>Facebook</td>\n",
       "    </tr>\n",
       "    <tr>\n",
       "      <th>2</th>\n",
       "      <td>2017</td>\n",
       "      <td>8</td>\n",
       "      <td>18</td>\n",
       "      <td>night</td>\n",
       "      <td>dont angri</td>\n",
       "      <td>2</td>\n",
       "      <td>Facebook</td>\n",
       "    </tr>\n",
       "    <tr>\n",
       "      <th>3</th>\n",
       "      <td>2022</td>\n",
       "      <td>6</td>\n",
       "      <td>8</td>\n",
       "      <td>morning</td>\n",
       "      <td>attend class listen teacher read slide nonsenc</td>\n",
       "      <td>2</td>\n",
       "      <td>Facebook</td>\n",
       "    </tr>\n",
       "    <tr>\n",
       "      <th>4</th>\n",
       "      <td>2022</td>\n",
       "      <td>6</td>\n",
       "      <td>8</td>\n",
       "      <td>noon</td>\n",
       "      <td>want go let go</td>\n",
       "      <td>2</td>\n",
       "      <td>Instagram</td>\n",
       "    </tr>\n",
       "  </tbody>\n",
       "</table>\n",
       "</div>"
      ],
      "text/plain": [
       "   Year  Month  Day Time of Tweet  \\\n",
       "0  2018      8   18       morning   \n",
       "1  2018      8   18          noon   \n",
       "2  2017      8   18         night   \n",
       "3  2022      6    8       morning   \n",
       "4  2022      6    8          noon   \n",
       "\n",
       "                                             text  sentiment     Platform  \n",
       "0                       great day look like dream          1    Twitter    \n",
       "1                       feel sorri miss sea beach          1    Facebook   \n",
       "2                                      dont angri          2     Facebook  \n",
       "3  attend class listen teacher read slide nonsenc          2    Facebook   \n",
       "4                                  want go let go          2   Instagram   "
      ]
     },
     "execution_count": 33,
     "metadata": {},
     "output_type": "execute_result"
    }
   ],
   "source": [
    "df.head()"
   ]
  },
  {
   "cell_type": "markdown",
   "id": "1049e736-0e1a-4281-ac2e-1f9dbd5b9db0",
   "metadata": {},
   "source": [
    "## Splitting the data"
   ]
  },
  {
   "cell_type": "code",
   "execution_count": 34,
   "id": "df2f8343-3f02-4c94-aa95-70d23a98fa8e",
   "metadata": {
    "executionInfo": {
     "elapsed": 816,
     "status": "ok",
     "timestamp": 1721456271410,
     "user": {
      "displayName": "Jaimini Chaudhari",
      "userId": "01479474956516664599"
     },
     "user_tz": -330
    },
    "id": "df2f8343-3f02-4c94-aa95-70d23a98fa8e"
   },
   "outputs": [],
   "source": [
    "from sklearn.model_selection import train_test_split\n",
    "from sklearn.metrics import accuracy_score, classification_report, f1_score\n",
    "from sklearn.svm import SVC"
   ]
  },
  {
   "cell_type": "code",
   "execution_count": 35,
   "id": "43b0a5fe-7a23-4bf8-8368-12d768ba2eb8",
   "metadata": {
    "executionInfo": {
     "elapsed": 703,
     "status": "ok",
     "timestamp": 1721456275398,
     "user": {
      "displayName": "Jaimini Chaudhari",
      "userId": "01479474956516664599"
     },
     "user_tz": -330
    },
    "id": "43b0a5fe-7a23-4bf8-8368-12d768ba2eb8"
   },
   "outputs": [],
   "source": [
    "X = df['text']\n",
    "Y = df['sentiment']"
   ]
  },
  {
   "cell_type": "code",
   "execution_count": 36,
   "id": "d385981d-eb11-48a7-a214-8212cb98ff61",
   "metadata": {
    "colab": {
     "base_uri": "https://localhost:8080/"
    },
    "executionInfo": {
     "elapsed": 923,
     "status": "ok",
     "timestamp": 1721456372689,
     "user": {
      "displayName": "Jaimini Chaudhari",
      "userId": "01479474956516664599"
     },
     "user_tz": -330
    },
    "id": "d385981d-eb11-48a7-a214-8212cb98ff61",
    "outputId": "d34d1a01-c0a3-4a21-f01d-62b6b1440b99"
   },
   "outputs": [
    {
     "name": "stdout",
     "output_type": "stream",
     "text": [
      "(399,)\n",
      "(100,)\n",
      "(399,)\n",
      "(100,)\n"
     ]
    }
   ],
   "source": [
    "X_train , X_test ,y_train , y_test = train_test_split(X , Y , train_size = 0.8 , random_state = 0)\n",
    "\n",
    "print(X_train.shape)\n",
    "print(X_test.shape)\n",
    "print(y_train.shape)\n",
    "print(y_test.shape)"
   ]
  },
  {
   "cell_type": "code",
   "execution_count": 37,
   "id": "9e79b489-4433-4f8e-af3a-9239074b9006",
   "metadata": {
    "executionInfo": {
     "elapsed": 6,
     "status": "ok",
     "timestamp": 1721456380878,
     "user": {
      "displayName": "Jaimini Chaudhari",
      "userId": "01479474956516664599"
     },
     "user_tz": -330
    },
    "id": "9e79b489-4433-4f8e-af3a-9239074b9006"
   },
   "outputs": [],
   "source": [
    "from sklearn.feature_extraction.text import TfidfVectorizer"
   ]
  },
  {
   "cell_type": "code",
   "execution_count": 38,
   "id": "9f0b2dd1-5da2-4d2c-9ad7-1596e5746eab",
   "metadata": {
    "executionInfo": {
     "elapsed": 7,
     "status": "ok",
     "timestamp": 1721456383610,
     "user": {
      "displayName": "Jaimini Chaudhari",
      "userId": "01479474956516664599"
     },
     "user_tz": -330
    },
    "id": "9f0b2dd1-5da2-4d2c-9ad7-1596e5746eab"
   },
   "outputs": [],
   "source": [
    "vc = TfidfVectorizer()\n",
    "X_train = vc.fit_transform(X_train)\n",
    "X_test = vc.transform(X_test)"
   ]
  },
  {
   "cell_type": "markdown",
   "id": "c93a0574-5d98-4d9c-b176-4b8db7a0dd27",
   "metadata": {},
   "source": [
    "## Using SVC model "
   ]
  },
  {
   "cell_type": "code",
   "execution_count": 39,
   "id": "d79127ca-f01e-41e8-a1af-01643d4c3bd6",
   "metadata": {
    "executionInfo": {
     "elapsed": 626,
     "status": "ok",
     "timestamp": 1721456388473,
     "user": {
      "displayName": "Jaimini Chaudhari",
      "userId": "01479474956516664599"
     },
     "user_tz": -330
    },
    "id": "d79127ca-f01e-41e8-a1af-01643d4c3bd6"
   },
   "outputs": [],
   "source": [
    "model = SVC()\n",
    "model.fit(X_train, y_train)\n",
    "\n",
    "# Make predictions\n",
    "y_pred_cls = model.predict(X_test)\n",
    "\n",
    "accuracy_cls = accuracy_score(y_test, y_pred_cls)\n",
    "\n",
    "f1_cls = f1_score(y_test, y_pred_cls, average='weighted')\n"
   ]
  },
  {
   "cell_type": "code",
   "execution_count": 40,
   "id": "7cd4f6a4-f81d-46c0-93fa-851e11c94047",
   "metadata": {
    "colab": {
     "base_uri": "https://localhost:8080/"
    },
    "executionInfo": {
     "elapsed": 511,
     "status": "ok",
     "timestamp": 1721456392961,
     "user": {
      "displayName": "Jaimini Chaudhari",
      "userId": "01479474956516664599"
     },
     "user_tz": -330
    },
    "id": "7cd4f6a4-f81d-46c0-93fa-851e11c94047",
    "outputId": "2211e75f-3c60-4bbf-c1f6-980c9f185b27"
   },
   "outputs": [
    {
     "data": {
      "text/plain": [
       "array([0, 0, 1, 0, 0, 2, 0, 0, 0, 2, 0, 0, 1, 0, 1, 0, 1, 0, 2, 0, 0, 0,\n",
       "       1, 0, 0, 0, 1, 0, 1, 0, 0, 1, 2, 1, 0, 0, 2, 2, 1, 0, 1, 0, 0, 0,\n",
       "       1, 1, 2, 2, 1, 2, 0, 0, 0, 1, 1, 0, 0, 1, 0, 0, 0, 1, 0, 1, 2, 2,\n",
       "       1, 0, 0, 1, 1, 0, 0, 0, 0, 1, 0, 0, 0, 1, 1, 0, 0, 1, 0, 0, 0, 1,\n",
       "       0, 1, 0, 0, 0, 0, 1, 1, 0, 0, 0, 1], dtype=int64)"
      ]
     },
     "execution_count": 40,
     "metadata": {},
     "output_type": "execute_result"
    }
   ],
   "source": [
    "y_pred_cls"
   ]
  },
  {
   "cell_type": "code",
   "execution_count": 41,
   "id": "da2e322b-bf01-4fdd-aef3-711401c01f5c",
   "metadata": {
    "id": "da2e322b-bf01-4fdd-aef3-711401c01f5c"
   },
   "outputs": [],
   "source": [
    "def val_to_category(val):\n",
    "    category_map = {\n",
    "       0:'neutral',\n",
    "        1:'positive',\n",
    "        2:'negative'\n",
    "     }\n",
    "    return category_map.get(val,-1)"
   ]
  },
  {
   "cell_type": "code",
   "execution_count": 42,
   "id": "fcde1eb6-4e47-4e72-b6a5-2780ac71a37f",
   "metadata": {},
   "outputs": [],
   "source": [
    "def make_predictions(text):\n",
    "    text = stemming(text)\n",
    "    text = lemmatizing(text)\n",
    "    text = vc.transform([text])\n",
    "    val = model.predict(text)\n",
    "    val = val_to_category(int(val[0]))\n",
    "    print(\"sentiment is : \",val)"
   ]
  },
  {
   "cell_type": "markdown",
   "id": "84d71316-b99a-40d4-861e-620987fbb168",
   "metadata": {},
   "source": [
    "#### Making prediction"
   ]
  },
  {
   "cell_type": "code",
   "execution_count": 56,
   "id": "e62b94e0-f871-41d4-87eb-2f99d5fe40d2",
   "metadata": {},
   "outputs": [
    {
     "name": "stdout",
     "output_type": "stream",
     "text": [
      "sentiment is :  positive\n"
     ]
    }
   ],
   "source": [
    "make_predictions('I feel sorry, I miss you here in the sea beach')"
   ]
  },
  {
   "cell_type": "markdown",
   "id": "1512ba83-9038-4bbf-a8f0-313c933f47c1",
   "metadata": {},
   "source": [
    "#### Score"
   ]
  },
  {
   "cell_type": "code",
   "execution_count": 44,
   "id": "f16d61bf-daea-40fe-bff2-de5e29ab7706",
   "metadata": {},
   "outputs": [
    {
     "data": {
      "text/plain": [
       "0.5878914695683791"
      ]
     },
     "execution_count": 44,
     "metadata": {},
     "output_type": "execute_result"
    }
   ],
   "source": [
    "f1_cls"
   ]
  },
  {
   "cell_type": "code",
   "execution_count": 45,
   "id": "cb2f2c02-7fbe-4ff2-970e-2eeb88f471e9",
   "metadata": {},
   "outputs": [
    {
     "data": {
      "text/plain": [
       "0.6"
      ]
     },
     "execution_count": 45,
     "metadata": {},
     "output_type": "execute_result"
    }
   ],
   "source": [
    "accuracy_cls"
   ]
  },
  {
   "cell_type": "code",
   "execution_count": null,
   "id": "cf62a9ee-f8a3-40d2-be18-99aabdfc1c1d",
   "metadata": {},
   "outputs": [],
   "source": []
  },
  {
   "cell_type": "markdown",
   "id": "2cb82afc-af47-45b3-ae13-199ef9a165f5",
   "metadata": {},
   "source": [
    "## Using Random Forest"
   ]
  },
  {
   "cell_type": "code",
   "execution_count": 46,
   "id": "fc162f51-9c2c-4af7-bc8e-379501b69723",
   "metadata": {},
   "outputs": [],
   "source": [
    "from sklearn.ensemble import RandomForestClassifier"
   ]
  },
  {
   "cell_type": "code",
   "execution_count": 47,
   "id": "cb67ac00-2c5a-495a-94e2-3956dcdd5069",
   "metadata": {},
   "outputs": [],
   "source": [
    "clf=RandomForestClassifier(n_estimators=100, criterion='gini')"
   ]
  },
  {
   "cell_type": "code",
   "execution_count": 48,
   "id": "d00c5e12-e413-4b8b-9f85-a6983c0df2ea",
   "metadata": {},
   "outputs": [
    {
     "data": {
      "text/html": [
       "<style>#sk-container-id-1 {\n",
       "  /* Definition of color scheme common for light and dark mode */\n",
       "  --sklearn-color-text: black;\n",
       "  --sklearn-color-line: gray;\n",
       "  /* Definition of color scheme for unfitted estimators */\n",
       "  --sklearn-color-unfitted-level-0: #fff5e6;\n",
       "  --sklearn-color-unfitted-level-1: #f6e4d2;\n",
       "  --sklearn-color-unfitted-level-2: #ffe0b3;\n",
       "  --sklearn-color-unfitted-level-3: chocolate;\n",
       "  /* Definition of color scheme for fitted estimators */\n",
       "  --sklearn-color-fitted-level-0: #f0f8ff;\n",
       "  --sklearn-color-fitted-level-1: #d4ebff;\n",
       "  --sklearn-color-fitted-level-2: #b3dbfd;\n",
       "  --sklearn-color-fitted-level-3: cornflowerblue;\n",
       "\n",
       "  /* Specific color for light theme */\n",
       "  --sklearn-color-text-on-default-background: var(--sg-text-color, var(--theme-code-foreground, var(--jp-content-font-color1, black)));\n",
       "  --sklearn-color-background: var(--sg-background-color, var(--theme-background, var(--jp-layout-color0, white)));\n",
       "  --sklearn-color-border-box: var(--sg-text-color, var(--theme-code-foreground, var(--jp-content-font-color1, black)));\n",
       "  --sklearn-color-icon: #696969;\n",
       "\n",
       "  @media (prefers-color-scheme: dark) {\n",
       "    /* Redefinition of color scheme for dark theme */\n",
       "    --sklearn-color-text-on-default-background: var(--sg-text-color, var(--theme-code-foreground, var(--jp-content-font-color1, white)));\n",
       "    --sklearn-color-background: var(--sg-background-color, var(--theme-background, var(--jp-layout-color0, #111)));\n",
       "    --sklearn-color-border-box: var(--sg-text-color, var(--theme-code-foreground, var(--jp-content-font-color1, white)));\n",
       "    --sklearn-color-icon: #878787;\n",
       "  }\n",
       "}\n",
       "\n",
       "#sk-container-id-1 {\n",
       "  color: var(--sklearn-color-text);\n",
       "}\n",
       "\n",
       "#sk-container-id-1 pre {\n",
       "  padding: 0;\n",
       "}\n",
       "\n",
       "#sk-container-id-1 input.sk-hidden--visually {\n",
       "  border: 0;\n",
       "  clip: rect(1px 1px 1px 1px);\n",
       "  clip: rect(1px, 1px, 1px, 1px);\n",
       "  height: 1px;\n",
       "  margin: -1px;\n",
       "  overflow: hidden;\n",
       "  padding: 0;\n",
       "  position: absolute;\n",
       "  width: 1px;\n",
       "}\n",
       "\n",
       "#sk-container-id-1 div.sk-dashed-wrapped {\n",
       "  border: 1px dashed var(--sklearn-color-line);\n",
       "  margin: 0 0.4em 0.5em 0.4em;\n",
       "  box-sizing: border-box;\n",
       "  padding-bottom: 0.4em;\n",
       "  background-color: var(--sklearn-color-background);\n",
       "}\n",
       "\n",
       "#sk-container-id-1 div.sk-container {\n",
       "  /* jupyter's `normalize.less` sets `[hidden] { display: none; }`\n",
       "     but bootstrap.min.css set `[hidden] { display: none !important; }`\n",
       "     so we also need the `!important` here to be able to override the\n",
       "     default hidden behavior on the sphinx rendered scikit-learn.org.\n",
       "     See: https://github.com/scikit-learn/scikit-learn/issues/21755 */\n",
       "  display: inline-block !important;\n",
       "  position: relative;\n",
       "}\n",
       "\n",
       "#sk-container-id-1 div.sk-text-repr-fallback {\n",
       "  display: none;\n",
       "}\n",
       "\n",
       "div.sk-parallel-item,\n",
       "div.sk-serial,\n",
       "div.sk-item {\n",
       "  /* draw centered vertical line to link estimators */\n",
       "  background-image: linear-gradient(var(--sklearn-color-text-on-default-background), var(--sklearn-color-text-on-default-background));\n",
       "  background-size: 2px 100%;\n",
       "  background-repeat: no-repeat;\n",
       "  background-position: center center;\n",
       "}\n",
       "\n",
       "/* Parallel-specific style estimator block */\n",
       "\n",
       "#sk-container-id-1 div.sk-parallel-item::after {\n",
       "  content: \"\";\n",
       "  width: 100%;\n",
       "  border-bottom: 2px solid var(--sklearn-color-text-on-default-background);\n",
       "  flex-grow: 1;\n",
       "}\n",
       "\n",
       "#sk-container-id-1 div.sk-parallel {\n",
       "  display: flex;\n",
       "  align-items: stretch;\n",
       "  justify-content: center;\n",
       "  background-color: var(--sklearn-color-background);\n",
       "  position: relative;\n",
       "}\n",
       "\n",
       "#sk-container-id-1 div.sk-parallel-item {\n",
       "  display: flex;\n",
       "  flex-direction: column;\n",
       "}\n",
       "\n",
       "#sk-container-id-1 div.sk-parallel-item:first-child::after {\n",
       "  align-self: flex-end;\n",
       "  width: 50%;\n",
       "}\n",
       "\n",
       "#sk-container-id-1 div.sk-parallel-item:last-child::after {\n",
       "  align-self: flex-start;\n",
       "  width: 50%;\n",
       "}\n",
       "\n",
       "#sk-container-id-1 div.sk-parallel-item:only-child::after {\n",
       "  width: 0;\n",
       "}\n",
       "\n",
       "/* Serial-specific style estimator block */\n",
       "\n",
       "#sk-container-id-1 div.sk-serial {\n",
       "  display: flex;\n",
       "  flex-direction: column;\n",
       "  align-items: center;\n",
       "  background-color: var(--sklearn-color-background);\n",
       "  padding-right: 1em;\n",
       "  padding-left: 1em;\n",
       "}\n",
       "\n",
       "\n",
       "/* Toggleable style: style used for estimator/Pipeline/ColumnTransformer box that is\n",
       "clickable and can be expanded/collapsed.\n",
       "- Pipeline and ColumnTransformer use this feature and define the default style\n",
       "- Estimators will overwrite some part of the style using the `sk-estimator` class\n",
       "*/\n",
       "\n",
       "/* Pipeline and ColumnTransformer style (default) */\n",
       "\n",
       "#sk-container-id-1 div.sk-toggleable {\n",
       "  /* Default theme specific background. It is overwritten whether we have a\n",
       "  specific estimator or a Pipeline/ColumnTransformer */\n",
       "  background-color: var(--sklearn-color-background);\n",
       "}\n",
       "\n",
       "/* Toggleable label */\n",
       "#sk-container-id-1 label.sk-toggleable__label {\n",
       "  cursor: pointer;\n",
       "  display: block;\n",
       "  width: 100%;\n",
       "  margin-bottom: 0;\n",
       "  padding: 0.5em;\n",
       "  box-sizing: border-box;\n",
       "  text-align: center;\n",
       "}\n",
       "\n",
       "#sk-container-id-1 label.sk-toggleable__label-arrow:before {\n",
       "  /* Arrow on the left of the label */\n",
       "  content: \"▸\";\n",
       "  float: left;\n",
       "  margin-right: 0.25em;\n",
       "  color: var(--sklearn-color-icon);\n",
       "}\n",
       "\n",
       "#sk-container-id-1 label.sk-toggleable__label-arrow:hover:before {\n",
       "  color: var(--sklearn-color-text);\n",
       "}\n",
       "\n",
       "/* Toggleable content - dropdown */\n",
       "\n",
       "#sk-container-id-1 div.sk-toggleable__content {\n",
       "  max-height: 0;\n",
       "  max-width: 0;\n",
       "  overflow: hidden;\n",
       "  text-align: left;\n",
       "  /* unfitted */\n",
       "  background-color: var(--sklearn-color-unfitted-level-0);\n",
       "}\n",
       "\n",
       "#sk-container-id-1 div.sk-toggleable__content.fitted {\n",
       "  /* fitted */\n",
       "  background-color: var(--sklearn-color-fitted-level-0);\n",
       "}\n",
       "\n",
       "#sk-container-id-1 div.sk-toggleable__content pre {\n",
       "  margin: 0.2em;\n",
       "  border-radius: 0.25em;\n",
       "  color: var(--sklearn-color-text);\n",
       "  /* unfitted */\n",
       "  background-color: var(--sklearn-color-unfitted-level-0);\n",
       "}\n",
       "\n",
       "#sk-container-id-1 div.sk-toggleable__content.fitted pre {\n",
       "  /* unfitted */\n",
       "  background-color: var(--sklearn-color-fitted-level-0);\n",
       "}\n",
       "\n",
       "#sk-container-id-1 input.sk-toggleable__control:checked~div.sk-toggleable__content {\n",
       "  /* Expand drop-down */\n",
       "  max-height: 200px;\n",
       "  max-width: 100%;\n",
       "  overflow: auto;\n",
       "}\n",
       "\n",
       "#sk-container-id-1 input.sk-toggleable__control:checked~label.sk-toggleable__label-arrow:before {\n",
       "  content: \"▾\";\n",
       "}\n",
       "\n",
       "/* Pipeline/ColumnTransformer-specific style */\n",
       "\n",
       "#sk-container-id-1 div.sk-label input.sk-toggleable__control:checked~label.sk-toggleable__label {\n",
       "  color: var(--sklearn-color-text);\n",
       "  background-color: var(--sklearn-color-unfitted-level-2);\n",
       "}\n",
       "\n",
       "#sk-container-id-1 div.sk-label.fitted input.sk-toggleable__control:checked~label.sk-toggleable__label {\n",
       "  background-color: var(--sklearn-color-fitted-level-2);\n",
       "}\n",
       "\n",
       "/* Estimator-specific style */\n",
       "\n",
       "/* Colorize estimator box */\n",
       "#sk-container-id-1 div.sk-estimator input.sk-toggleable__control:checked~label.sk-toggleable__label {\n",
       "  /* unfitted */\n",
       "  background-color: var(--sklearn-color-unfitted-level-2);\n",
       "}\n",
       "\n",
       "#sk-container-id-1 div.sk-estimator.fitted input.sk-toggleable__control:checked~label.sk-toggleable__label {\n",
       "  /* fitted */\n",
       "  background-color: var(--sklearn-color-fitted-level-2);\n",
       "}\n",
       "\n",
       "#sk-container-id-1 div.sk-label label.sk-toggleable__label,\n",
       "#sk-container-id-1 div.sk-label label {\n",
       "  /* The background is the default theme color */\n",
       "  color: var(--sklearn-color-text-on-default-background);\n",
       "}\n",
       "\n",
       "/* On hover, darken the color of the background */\n",
       "#sk-container-id-1 div.sk-label:hover label.sk-toggleable__label {\n",
       "  color: var(--sklearn-color-text);\n",
       "  background-color: var(--sklearn-color-unfitted-level-2);\n",
       "}\n",
       "\n",
       "/* Label box, darken color on hover, fitted */\n",
       "#sk-container-id-1 div.sk-label.fitted:hover label.sk-toggleable__label.fitted {\n",
       "  color: var(--sklearn-color-text);\n",
       "  background-color: var(--sklearn-color-fitted-level-2);\n",
       "}\n",
       "\n",
       "/* Estimator label */\n",
       "\n",
       "#sk-container-id-1 div.sk-label label {\n",
       "  font-family: monospace;\n",
       "  font-weight: bold;\n",
       "  display: inline-block;\n",
       "  line-height: 1.2em;\n",
       "}\n",
       "\n",
       "#sk-container-id-1 div.sk-label-container {\n",
       "  text-align: center;\n",
       "}\n",
       "\n",
       "/* Estimator-specific */\n",
       "#sk-container-id-1 div.sk-estimator {\n",
       "  font-family: monospace;\n",
       "  border: 1px dotted var(--sklearn-color-border-box);\n",
       "  border-radius: 0.25em;\n",
       "  box-sizing: border-box;\n",
       "  margin-bottom: 0.5em;\n",
       "  /* unfitted */\n",
       "  background-color: var(--sklearn-color-unfitted-level-0);\n",
       "}\n",
       "\n",
       "#sk-container-id-1 div.sk-estimator.fitted {\n",
       "  /* fitted */\n",
       "  background-color: var(--sklearn-color-fitted-level-0);\n",
       "}\n",
       "\n",
       "/* on hover */\n",
       "#sk-container-id-1 div.sk-estimator:hover {\n",
       "  /* unfitted */\n",
       "  background-color: var(--sklearn-color-unfitted-level-2);\n",
       "}\n",
       "\n",
       "#sk-container-id-1 div.sk-estimator.fitted:hover {\n",
       "  /* fitted */\n",
       "  background-color: var(--sklearn-color-fitted-level-2);\n",
       "}\n",
       "\n",
       "/* Specification for estimator info (e.g. \"i\" and \"?\") */\n",
       "\n",
       "/* Common style for \"i\" and \"?\" */\n",
       "\n",
       ".sk-estimator-doc-link,\n",
       "a:link.sk-estimator-doc-link,\n",
       "a:visited.sk-estimator-doc-link {\n",
       "  float: right;\n",
       "  font-size: smaller;\n",
       "  line-height: 1em;\n",
       "  font-family: monospace;\n",
       "  background-color: var(--sklearn-color-background);\n",
       "  border-radius: 1em;\n",
       "  height: 1em;\n",
       "  width: 1em;\n",
       "  text-decoration: none !important;\n",
       "  margin-left: 1ex;\n",
       "  /* unfitted */\n",
       "  border: var(--sklearn-color-unfitted-level-1) 1pt solid;\n",
       "  color: var(--sklearn-color-unfitted-level-1);\n",
       "}\n",
       "\n",
       ".sk-estimator-doc-link.fitted,\n",
       "a:link.sk-estimator-doc-link.fitted,\n",
       "a:visited.sk-estimator-doc-link.fitted {\n",
       "  /* fitted */\n",
       "  border: var(--sklearn-color-fitted-level-1) 1pt solid;\n",
       "  color: var(--sklearn-color-fitted-level-1);\n",
       "}\n",
       "\n",
       "/* On hover */\n",
       "div.sk-estimator:hover .sk-estimator-doc-link:hover,\n",
       ".sk-estimator-doc-link:hover,\n",
       "div.sk-label-container:hover .sk-estimator-doc-link:hover,\n",
       ".sk-estimator-doc-link:hover {\n",
       "  /* unfitted */\n",
       "  background-color: var(--sklearn-color-unfitted-level-3);\n",
       "  color: var(--sklearn-color-background);\n",
       "  text-decoration: none;\n",
       "}\n",
       "\n",
       "div.sk-estimator.fitted:hover .sk-estimator-doc-link.fitted:hover,\n",
       ".sk-estimator-doc-link.fitted:hover,\n",
       "div.sk-label-container:hover .sk-estimator-doc-link.fitted:hover,\n",
       ".sk-estimator-doc-link.fitted:hover {\n",
       "  /* fitted */\n",
       "  background-color: var(--sklearn-color-fitted-level-3);\n",
       "  color: var(--sklearn-color-background);\n",
       "  text-decoration: none;\n",
       "}\n",
       "\n",
       "/* Span, style for the box shown on hovering the info icon */\n",
       ".sk-estimator-doc-link span {\n",
       "  display: none;\n",
       "  z-index: 9999;\n",
       "  position: relative;\n",
       "  font-weight: normal;\n",
       "  right: .2ex;\n",
       "  padding: .5ex;\n",
       "  margin: .5ex;\n",
       "  width: min-content;\n",
       "  min-width: 20ex;\n",
       "  max-width: 50ex;\n",
       "  color: var(--sklearn-color-text);\n",
       "  box-shadow: 2pt 2pt 4pt #999;\n",
       "  /* unfitted */\n",
       "  background: var(--sklearn-color-unfitted-level-0);\n",
       "  border: .5pt solid var(--sklearn-color-unfitted-level-3);\n",
       "}\n",
       "\n",
       ".sk-estimator-doc-link.fitted span {\n",
       "  /* fitted */\n",
       "  background: var(--sklearn-color-fitted-level-0);\n",
       "  border: var(--sklearn-color-fitted-level-3);\n",
       "}\n",
       "\n",
       ".sk-estimator-doc-link:hover span {\n",
       "  display: block;\n",
       "}\n",
       "\n",
       "/* \"?\"-specific style due to the `<a>` HTML tag */\n",
       "\n",
       "#sk-container-id-1 a.estimator_doc_link {\n",
       "  float: right;\n",
       "  font-size: 1rem;\n",
       "  line-height: 1em;\n",
       "  font-family: monospace;\n",
       "  background-color: var(--sklearn-color-background);\n",
       "  border-radius: 1rem;\n",
       "  height: 1rem;\n",
       "  width: 1rem;\n",
       "  text-decoration: none;\n",
       "  /* unfitted */\n",
       "  color: var(--sklearn-color-unfitted-level-1);\n",
       "  border: var(--sklearn-color-unfitted-level-1) 1pt solid;\n",
       "}\n",
       "\n",
       "#sk-container-id-1 a.estimator_doc_link.fitted {\n",
       "  /* fitted */\n",
       "  border: var(--sklearn-color-fitted-level-1) 1pt solid;\n",
       "  color: var(--sklearn-color-fitted-level-1);\n",
       "}\n",
       "\n",
       "/* On hover */\n",
       "#sk-container-id-1 a.estimator_doc_link:hover {\n",
       "  /* unfitted */\n",
       "  background-color: var(--sklearn-color-unfitted-level-3);\n",
       "  color: var(--sklearn-color-background);\n",
       "  text-decoration: none;\n",
       "}\n",
       "\n",
       "#sk-container-id-1 a.estimator_doc_link.fitted:hover {\n",
       "  /* fitted */\n",
       "  background-color: var(--sklearn-color-fitted-level-3);\n",
       "}\n",
       "</style><div id=\"sk-container-id-1\" class=\"sk-top-container\"><div class=\"sk-text-repr-fallback\"><pre>RandomForestClassifier()</pre><b>In a Jupyter environment, please rerun this cell to show the HTML representation or trust the notebook. <br />On GitHub, the HTML representation is unable to render, please try loading this page with nbviewer.org.</b></div><div class=\"sk-container\" hidden><div class=\"sk-item\"><div class=\"sk-estimator fitted sk-toggleable\"><input class=\"sk-toggleable__control sk-hidden--visually\" id=\"sk-estimator-id-1\" type=\"checkbox\" checked><label for=\"sk-estimator-id-1\" class=\"sk-toggleable__label fitted sk-toggleable__label-arrow fitted\">&nbsp;&nbsp;RandomForestClassifier<a class=\"sk-estimator-doc-link fitted\" rel=\"noreferrer\" target=\"_blank\" href=\"https://scikit-learn.org/1.4/modules/generated/sklearn.ensemble.RandomForestClassifier.html\">?<span>Documentation for RandomForestClassifier</span></a><span class=\"sk-estimator-doc-link fitted\">i<span>Fitted</span></span></label><div class=\"sk-toggleable__content fitted\"><pre>RandomForestClassifier()</pre></div> </div></div></div></div>"
      ],
      "text/plain": [
       "RandomForestClassifier()"
      ]
     },
     "execution_count": 48,
     "metadata": {},
     "output_type": "execute_result"
    }
   ],
   "source": [
    "clf.fit(X_train,y_train)"
   ]
  },
  {
   "cell_type": "code",
   "execution_count": 49,
   "id": "d9e65f24-70b2-4f9d-b3bd-c08a840a7acf",
   "metadata": {},
   "outputs": [
    {
     "data": {
      "text/plain": [
       "array([0, 2, 1, 0, 0, 2, 0, 2, 0, 2, 0, 0, 1, 0, 1, 0, 0, 0, 2, 0, 0, 0,\n",
       "       1, 0, 0, 0, 1, 0, 1, 0, 0, 1, 0, 1, 0, 0, 2, 2, 1, 0, 1, 0, 0, 0,\n",
       "       1, 1, 2, 0, 0, 2, 0, 1, 0, 1, 0, 0, 0, 1, 0, 0, 0, 1, 0, 1, 0, 2,\n",
       "       1, 0, 0, 1, 1, 0, 0, 0, 0, 0, 1, 0, 0, 1, 0, 0, 0, 0, 0, 0, 0, 1,\n",
       "       0, 1, 1, 0, 0, 0, 1, 0, 0, 0, 0, 1], dtype=int64)"
      ]
     },
     "execution_count": 49,
     "metadata": {},
     "output_type": "execute_result"
    }
   ],
   "source": [
    "clf.predict(X_test)"
   ]
  },
  {
   "cell_type": "code",
   "execution_count": 50,
   "id": "13e6ddc5-04c1-41e7-afb6-f1bd4447b56d",
   "metadata": {},
   "outputs": [],
   "source": [
    "def val_to_category(val):\n",
    "    category_map = {\n",
    "       0:'neutral',\n",
    "        1:'positive',\n",
    "        2:'negative'\n",
    "     }\n",
    "    return category_map.get(val,-1)"
   ]
  },
  {
   "cell_type": "code",
   "execution_count": 51,
   "id": "3d5194b8-43a4-4f50-b38b-454387ff5100",
   "metadata": {},
   "outputs": [],
   "source": [
    "def make_predictions3(text):\n",
    "    text = stemming(text)\n",
    "    text = lemmatizing(text)\n",
    "    text = vc.transform([text])\n",
    "    val = clf.predict(text)\n",
    "    val = val_to_category(int(val[0]))\n",
    "    print(\"sentiment is : \",val)"
   ]
  },
  {
   "cell_type": "markdown",
   "id": "a171cc22-5b97-499f-8e96-616f3586afc4",
   "metadata": {},
   "source": [
    "#### Making prediction"
   ]
  },
  {
   "cell_type": "code",
   "execution_count": 52,
   "id": "7233ad87-a56f-4507-be17-9398c22b3a89",
   "metadata": {},
   "outputs": [
    {
     "name": "stdout",
     "output_type": "stream",
     "text": [
      "sentiment is :  positive\n"
     ]
    }
   ],
   "source": [
    "make_predictions3('I feel sorry, I miss you here in the sea beach')"
   ]
  },
  {
   "cell_type": "markdown",
   "id": "737f8a1b-158f-4dc4-abf1-ba73c49a9ec4",
   "metadata": {},
   "source": [
    "#### Score"
   ]
  },
  {
   "cell_type": "code",
   "execution_count": 53,
   "id": "ae5122d8-63e3-4a83-8183-fba718313a56",
   "metadata": {},
   "outputs": [],
   "source": [
    "score3=clf.score(X_test,y_test)"
   ]
  },
  {
   "cell_type": "code",
   "execution_count": 54,
   "id": "aaf275e8-8c1d-4bd8-ad58-ca5222fda714",
   "metadata": {},
   "outputs": [
    {
     "data": {
      "text/plain": [
       "0.65"
      ]
     },
     "execution_count": 54,
     "metadata": {},
     "output_type": "execute_result"
    }
   ],
   "source": [
    "score3"
   ]
  },
  {
   "cell_type": "code",
   "execution_count": 55,
   "id": "88026405-84e2-4d88-994e-606efad3d3e2",
   "metadata": {},
   "outputs": [
    {
     "name": "stderr",
     "output_type": "stream",
     "text": [
      "[NbConvertApp] Converting notebook sent4byja.ipynb to python\n",
      "[NbConvertApp] Writing 5362 bytes to sent4byja.py\n"
     ]
    }
   ],
   "source": [
    "!jupyter nbconvert --to python sent4byja.ipynb"
   ]
  },
  {
   "cell_type": "code",
   "execution_count": null,
   "id": "eb950c87-95b2-4e3d-9283-6336db319892",
   "metadata": {},
   "outputs": [],
   "source": []
  }
 ],
 "metadata": {
  "colab": {
   "provenance": []
  },
  "kernelspec": {
   "display_name": "Python 3 (ipykernel)",
   "language": "python",
   "name": "python3"
  },
  "language_info": {
   "codemirror_mode": {
    "name": "ipython",
    "version": 3
   },
   "file_extension": ".py",
   "mimetype": "text/x-python",
   "name": "python",
   "nbconvert_exporter": "python",
   "pygments_lexer": "ipython3",
   "version": "3.12.1"
  }
 },
 "nbformat": 4,
 "nbformat_minor": 5
}
